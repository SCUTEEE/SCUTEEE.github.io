{
  "nbformat": 4,
  "nbformat_minor": 0,
  "metadata": {
    "colab": {
      "name": "第4章 神经网络的学习.ipynb",
      "provenance": [],
      "collapsed_sections": [
        "bR24v8ivcJzl"
      ]
    },
    "kernelspec": {
      "name": "python3",
      "display_name": "Python 3"
    }
  },
  "cells": [
    {
      "cell_type": "markdown",
      "metadata": {
        "id": "bR24v8ivcJzl"
      },
      "source": [
        "# 本节需要的函数\n"
      ]
    },
    {
      "cell_type": "code",
      "metadata": {
        "id": "ntw1VEizWPEf"
      },
      "source": [
        "import numpy as np\n",
        "\n",
        "\n",
        "def identity_function(x):\n",
        "    return x\n",
        "\n",
        "\n",
        "def step_function(x):\n",
        "    return np.array(x > 0, dtype=np.int)\n",
        "\n",
        "\n",
        "def sigmoid(x):\n",
        "    return 1 / (1 + np.exp(-x))    \n",
        "\n",
        "\n",
        "def sigmoid_grad(x):\n",
        "    return (1.0 - sigmoid(x)) * sigmoid(x)\n",
        "    \n",
        "\n",
        "def relu(x):\n",
        "    return np.maximum(0, x)\n",
        "\n",
        "\n",
        "def relu_grad(x):\n",
        "    grad = np.zeros(x)\n",
        "    grad[x>=0] = 1\n",
        "    return grad\n",
        "    \n",
        "\n",
        "def softmax(x):\n",
        "    if x.ndim == 2:\n",
        "        x = x.T\n",
        "        x = x - np.max(x, axis=0)\n",
        "        y = np.exp(x) / np.sum(np.exp(x), axis=0)\n",
        "        return y.T \n",
        "\n",
        "    x = x - np.max(x) # 溢出对策\n",
        "    return np.exp(x) / np.sum(np.exp(x))\n",
        "\n",
        "\n",
        "def mean_squared_error(y, t):\n",
        "    return 0.5 * np.sum((y-t)**2)\n",
        "\n",
        "\n",
        "def cross_entropy_error(y, t):\n",
        "    if y.ndim == 1:\n",
        "        t = t.reshape(1, t.size)\n",
        "        y = y.reshape(1, y.size)\n",
        "        \n",
        "    # 监督数据是one-hot-vector的情况下，转换为正确解标签的索引\n",
        "    if t.size == y.size:\n",
        "        t = t.argmax(axis=1)\n",
        "             \n",
        "    batch_size = y.shape[0]\n",
        "    return -np.sum(np.log(y[np.arange(batch_size), t] + 1e-7)) / batch_size\n",
        "\n",
        "\n",
        "def softmax_loss(X, t):\n",
        "    y = softmax(X)\n",
        "    return cross_entropy_error(y, t)\n",
        "\n",
        "def numerical_gradient(f, x):\n",
        "    h = 1e-4 # 0.0001\n",
        "    grad = np.zeros_like(x)\n",
        "    \n",
        "    it = np.nditer(x, flags=['multi_index'], op_flags=['readwrite'])\n",
        "    while not it.finished:\n",
        "        idx = it.multi_index\n",
        "        tmp_val = x[idx]\n",
        "        x[idx] = float(tmp_val) + h\n",
        "        fxh1 = f(x) # f(x+h)\n",
        "        \n",
        "        x[idx] = tmp_val - h \n",
        "        fxh2 = f(x) # f(x-h)\n",
        "        grad[idx] = (fxh1 - fxh2) / (2*h)\n",
        "        \n",
        "        x[idx] = tmp_val # 还原值\n",
        "        it.iternext()   \n",
        "        \n",
        "    return grad"
      ],
      "execution_count": null,
      "outputs": []
    },
    {
      "cell_type": "markdown",
      "metadata": {
        "id": "bR8dpA3xMmbN"
      },
      "source": [
        "# 神经网络的学习\n",
        "\n",
        "上一节也看到了，随机生成的参数要是能有高准确率那就有鬼了。当然，几千个参数靠人来设置也不现实。所以需要靠计算机来自动调整：\n",
        "\n",
        "* 对于一般的机器学习，机器会根据样本的“特征”来调整参数，而特征是由人来设置的。\n",
        "* 对于神经网络，我们直接将整个样本输入到网络，无需设置任何特征。\n",
        "\n",
        "因此神经网络的应用范围更广。\n",
        "\n",
        "## 训练数据与测试数据\n",
        "\n",
        "训练数据用于训练神经网络，寻找最优参数。\n",
        "\n",
        "测试数据用来测试神经网络。\n",
        "\n",
        "为什么要这样划分？因为如果只用训练数据来测试，那么很有可能神经网络只能识别训练数据，而无法识别其他数据。就好像做题，如果只做一类题，那就有可能在考试时做不出新的类型的题目了。这种做考试题的能力，在深度学习中叫 **泛化**；而只会做一类题叫 **过拟合**。\n",
        "\n",
        "## 损失函数\n",
        "\n",
        "我们用 **损失函数 loss function** 来衡量神经网络的误差。\n",
        "\n",
        "### 均方误差\n",
        "\n",
        "最简单的损失函数就是均方误差：\n",
        "\n",
        "$$\n",
        "E = \\frac{1}{2} \\sum_k (y_k - t_k)^2\n",
        "$$\n",
        "\n"
      ]
    },
    {
      "cell_type": "code",
      "metadata": {
        "id": "YcTtSo1fTv3Y",
        "colab": {
          "base_uri": "https://localhost:8080/",
          "height": 34
        },
        "outputId": "a73e1be8-e8c5-4b5c-ae18-f29f2d758374"
      },
      "source": [
        "import numpy as np\n",
        "\n",
        "def mean_squared_error(y, t):\n",
        "    return 0.5 * np.sum((y-t)**2)\n",
        "\n",
        "y1 = np.array([0.1,0.7,0.2])\n",
        "y2 = np.array([0.1,0.5,0.4])\n",
        "t = np.array([0,1,0])\n",
        "\n",
        "[mean_squared_error(t,t),\n",
        " mean_squared_error(y1,t),\n",
        " mean_squared_error(y2,t)]"
      ],
      "execution_count": null,
      "outputs": [
        {
          "output_type": "execute_result",
          "data": {
            "text/plain": [
              "[0.0, 0.07000000000000002, 0.21000000000000002]"
            ]
          },
          "metadata": {
            "tags": []
          },
          "execution_count": 9
        }
      ]
    },
    {
      "cell_type": "markdown",
      "metadata": {
        "id": "MUhGubki_NHd"
      },
      "source": [
        "### 交叉熵误差\n",
        "\n",
        "$$\n",
        "E=-\\sum_k t_k \\log y_k\n",
        "$$\n",
        "\n",
        "输出的值只取决于正确标签对应的输出。如果输出是 $y=1$，则 $E=0$；如果输出 $y<1$，则 $E>0$。\n",
        "\n",
        "batch 学习的交叉熵误差：\n",
        "\n",
        "$$\n",
        "E=-\\frac{1}{N} \\sum_n \\sum_k t_{n,k} \\log y_{n,k}\n",
        "$$\n",
        "\n",
        "相当是所有训练数据的误差平均值。"
      ]
    },
    {
      "cell_type": "code",
      "metadata": {
        "id": "x2Er-TTxHocz",
        "colab": {
          "base_uri": "https://localhost:8080/",
          "height": 34
        },
        "outputId": "6feb88a8-72c2-4325-b736-c71c734c03c5"
      },
      "source": [
        "import numpy as np\n",
        "\n",
        "def cross_entropy_error(y, t):\n",
        "    if y.ndim == 1:\n",
        "        t = t.reshape(1, t.size)\n",
        "        y = y.reshape(1, y.size)\n",
        "        \n",
        "    # 监督数据是one-hot-vector的情况下，转换为正确解标签的索引\n",
        "    if t.size == y.size:\n",
        "        t = t.argmax(axis=1)\n",
        "             \n",
        "    batch_size = y.shape[0]\n",
        "    \n",
        "    #加上微小值防止出现负无穷\n",
        "    return -np.sum(np.log(y[np.arange(batch_size), t] + 1e-7)) / batch_size \n",
        "\n",
        "y1 = np.array([0.1,0.7,0.2])\n",
        "y2 = np.array([0.1,0.5,0.4])\n",
        "t = np.array([0,1,0])\n",
        "\n",
        "[cross_entropy_error(t,t),\n",
        " cross_entropy_error(y1,t),\n",
        " cross_entropy_error(y2,t)]"
      ],
      "execution_count": null,
      "outputs": [
        {
          "output_type": "execute_result",
          "data": {
            "text/plain": [
              "[-9.999999505838704e-08, 0.3566748010815999, 0.6931469805599654]"
            ]
          },
          "metadata": {
            "tags": []
          },
          "execution_count": 10
        }
      ]
    },
    {
      "cell_type": "markdown",
      "metadata": {
        "id": "gbDdI3nw3dg3"
      },
      "source": [
        "## 能不能用准确率来作为损失函数\n",
        "\n",
        "显然是不能的。准确率指的是有多少个是正确的，比如100个数据中有32个正确，那精度就是32%。显然，准确率是不连续的，或者说是突变的，这样我们如果微调参数，那么准确率是不会变化的，这样就无法确定应该向哪个方向调整参数。这和阶跃函数无法作为激活函数的理由是一样的。"
      ]
    },
    {
      "cell_type": "markdown",
      "metadata": {
        "id": "RzRZXX8oQOv0"
      },
      "source": [
        "## 梯度\n",
        "\n",
        "假如神经网络可以写成一个函数 $y=f(w, x)$ ，误差函数为 $L(f(w, x))$ ，为了使函数更准确，也就是误差函数最小。那么根据梯度的定义，我们可以向梯度方向减小参数：\n",
        "\n",
        "$$\n",
        "w_0' = w_0 - \\eta\\frac{\\partial L(f(x,w))}{\\partial w_0}\n",
        "$$\n",
        "\n",
        "$\\eta$ 称为**学习率**\n",
        "\n",
        "下面我们来看看如何求网络的梯度：\n"
      ]
    },
    {
      "cell_type": "code",
      "metadata": {
        "id": "oNJxntk4WDxc"
      },
      "source": [
        "def numerical_gradient(f, x): #笨方法求梯度\n",
        "    h = 1e-4 # 0.0001\n",
        "    grad = np.zeros_like(x)\n",
        "    \n",
        "    it = np.nditer(x, flags=['multi_index'], op_flags=['readwrite'])\n",
        "    while not it.finished:\n",
        "        idx = it.multi_index\n",
        "        tmp_val = x[idx]\n",
        "        x[idx] = float(tmp_val) + h\n",
        "        fxh1 = f(x) # f(x+h)\n",
        "        \n",
        "        x[idx] = tmp_val - h \n",
        "        fxh2 = f(x) # f(x-h)\n",
        "        grad[idx] = (fxh1 - fxh2) / (2*h) #取相近两点求斜率\n",
        "        \n",
        "        x[idx] = tmp_val # 还原值\n",
        "        it.iternext()   \n",
        "        \n",
        "    return grad"
      ],
      "execution_count": null,
      "outputs": []
    },
    {
      "cell_type": "code",
      "metadata": {
        "id": "im56ZNH1VYlD",
        "colab": {
          "base_uri": "https://localhost:8080/",
          "height": 70
        },
        "outputId": "5e68da7c-f165-425d-897e-cec36d722dc2"
      },
      "source": [
        "import numpy as np\n",
        "\n",
        "\n",
        "\n",
        "class simpleNet:\n",
        "    def __init__(self):\n",
        "        self.W = np.random.randn(2,3) #随机生成参数\n",
        "\n",
        "    def predict(self, x): #预测\n",
        "        return np.dot(x, self.W)\n",
        "\n",
        "    def loss(self, x, t): #计算误差\n",
        "        z = self.predict(x)\n",
        "        y = softmax(z)\n",
        "        loss = cross_entropy_error(y, t)\n",
        "\n",
        "        return loss\n",
        "\n",
        "x = np.array([0.6, 0.9])\n",
        "t = np.array([0, 0, 1])\n",
        "\n",
        "net = simpleNet()\n",
        "\n",
        "f = lambda w: net.loss(x, t)\n",
        "dW = numerical_gradient(f, net.W)\n",
        "\n",
        "print(net.loss(x,t))\n",
        "print(dW)"
      ],
      "execution_count": null,
      "outputs": [
        {
          "output_type": "stream",
          "text": [
            "0.2698596081175344\n",
            "[[ 0.11629091  0.02561713 -0.14190804]\n",
            " [ 0.17443636  0.03842569 -0.21286206]]\n"
          ],
          "name": "stdout"
        }
      ]
    },
    {
      "cell_type": "markdown",
      "metadata": {
        "id": "_nIGTJjRXu8M"
      },
      "source": [
        "求完梯度后更新梯度："
      ]
    },
    {
      "cell_type": "code",
      "metadata": {
        "id": "CsvxCCA0YT_L",
        "colab": {
          "base_uri": "https://localhost:8080/",
          "height": 122
        },
        "outputId": "a64d7b2d-a4ee-416b-e9b8-b4c9d420576f"
      },
      "source": [
        "eta = 1\n",
        "\n",
        "print(net.W)\n",
        "print(net.loss(x,t))\n",
        "\n",
        "for i in range(10): #利用梯度下降法更新十次参数\n",
        "    net.W = net.W - eta*numerical_gradient(f, net.W)\n",
        "\n",
        "print(net.W)\n",
        "print(net.loss(x,t))"
      ],
      "execution_count": null,
      "outputs": [
        {
          "output_type": "stream",
          "text": [
            "[[-0.52760346 -0.60826468  0.14784348]\n",
            " [-0.53011149 -2.15726367  0.54289599]]\n",
            "0.2698596081175344\n",
            "[[-0.98917483 -0.74641069  0.74756086]\n",
            " [-1.22246854 -2.36448269  1.44247207]]\n",
            "0.044317052837686284\n"
          ],
          "name": "stdout"
        }
      ]
    },
    {
      "cell_type": "markdown",
      "metadata": {
        "id": "FGRdA9yAbu7Z"
      },
      "source": [
        "可以看出，训练 10 次后，误差已经减小了 2 个数量级。这就是我们希望达到的目标"
      ]
    },
    {
      "cell_type": "markdown",
      "metadata": {
        "id": "Fa99VcYMA8go"
      },
      "source": [
        "# 回到MNIST数据集\n",
        "\n",
        "我们尝试用一个两层的网络来识别 MNIST 数据集，我们将定义一个 TwoLayerNet，并实现相关的函数（预测、损失函数、精度、梯度……）"
      ]
    },
    {
      "cell_type": "code",
      "metadata": {
        "id": "SSSyKOWtBMyF"
      },
      "source": [
        "class TwoLayerNet: #一个简单的两层网路\n",
        "\n",
        "    def __init__(self, input_size, hidden_size, output_size, weight_init_std=0.01):\n",
        "        # 初始化权重\n",
        "        self.params = {}\n",
        "        self.params['W1'] = weight_init_std * np.random.randn(input_size, hidden_size) #权重\n",
        "        self.params['b1'] = np.zeros(hidden_size) #偏置\n",
        "        self.params['W2'] = weight_init_std * np.random.randn(hidden_size, output_size)\n",
        "        self.params['b2'] = np.zeros(output_size)\n",
        "\n",
        "    def predict(self, x):\n",
        "        W1, W2 = self.params['W1'], self.params['W2']\n",
        "        b1, b2 = self.params['b1'], self.params['b2']\n",
        "    \n",
        "        a1 = np.dot(x, W1) + b1\n",
        "        z1 = sigmoid(a1)\n",
        "        a2 = np.dot(z1, W2) + b2\n",
        "        y = softmax(a2)\n",
        "        \n",
        "        return y\n",
        "        \n",
        "    # x:输入数据, t:监督数据\n",
        "    def loss(self, x, t):\n",
        "        y = self.predict(x)\n",
        "        \n",
        "        return cross_entropy_error(y, t)\n",
        "    \n",
        "    def accuracy(self, x, t):\n",
        "        y = self.predict(x)\n",
        "        y = np.argmax(y, axis=1)\n",
        "        t = np.argmax(t, axis=1)\n",
        "        \n",
        "        accuracy = np.sum(y == t) / float(x.shape[0])\n",
        "        return accuracy\n",
        "        \n",
        "    # x:输入数据, t:监督数据\n",
        "    def numerical_gradient(self, x, t):\n",
        "        loss_W = lambda W: self.loss(x, t)\n",
        "        \n",
        "        grads = {}\n",
        "        grads['W1'] = numerical_gradient(loss_W, self.params['W1'])  \n",
        "        grads['b1'] = numerical_gradient(loss_W, self.params['b1'])\n",
        "        grads['W2'] = numerical_gradient(loss_W, self.params['W2'])\n",
        "        grads['b2'] = numerical_gradient(loss_W, self.params['b2'])\n",
        "        \n",
        "        return grads\n",
        "        \n",
        "    def gradient(self, x, t):\n",
        "        W1, W2 = self.params['W1'], self.params['W2']\n",
        "        b1, b2 = self.params['b1'], self.params['b2']\n",
        "        grads = {}\n",
        "        \n",
        "        batch_num = x.shape[0]\n",
        "        \n",
        "        # forward\n",
        "        a1 = np.dot(x, W1) + b1\n",
        "        z1 = sigmoid(a1)\n",
        "        a2 = np.dot(z1, W2) + b2\n",
        "        y = softmax(a2)\n",
        "        \n",
        "        # backward\n",
        "        dy = (y - t) / batch_num\n",
        "        grads['W2'] = np.dot(z1.T, dy)\n",
        "        grads['b2'] = np.sum(dy, axis=0)\n",
        "        \n",
        "        da1 = np.dot(dy, W2.T)\n",
        "        dz1 = sigmoid_grad(a1) * da1\n",
        "        grads['W1'] = np.dot(x.T, dz1)\n",
        "        grads['b1'] = np.sum(dz1, axis=0)\n",
        "\n",
        "        return grads"
      ],
      "execution_count": null,
      "outputs": []
    },
    {
      "cell_type": "markdown",
      "metadata": {
        "id": "GPg6HbGeJtmg"
      },
      "source": [
        " "
      ]
    },
    {
      "cell_type": "code",
      "metadata": {
        "id": "ACyfclImKfoY",
        "colab": {
          "base_uri": "https://localhost:8080/",
          "height": 334
        },
        "outputId": "bc77baee-df9c-47fa-fbba-400cde49339c"
      },
      "source": [
        "try:\n",
        "    import urllib.request\n",
        "except ImportError:\n",
        "    raise ImportError('You should use Python 3.x')\n",
        "import os.path\n",
        "from IPython.terminal.embed import InteractiveShellEmbed\n",
        "import gzip\n",
        "import pickle\n",
        "import os\n",
        "import numpy as np\n",
        "\n",
        "\n",
        "url_base = 'http://yann.lecun.com/exdb/mnist/'\n",
        "key_file = {\n",
        "    'train_img':'train-images-idx3-ubyte.gz',\n",
        "    'train_label':'train-labels-idx1-ubyte.gz',\n",
        "    'test_img':'t10k-images-idx3-ubyte.gz',\n",
        "    'test_label':'t10k-labels-idx1-ubyte.gz'\n",
        "}\n",
        "\n",
        "## if you run in terminal, run this\n",
        "# dataset_dir = os.path.dirname(os.path.abspath(__file__))\n",
        "## if you run in IPython, run this\n",
        "ip_shell = InteractiveShellEmbed()\n",
        "dataset_dir = ip_shell.magic(\"%pwd\")\n",
        "\n",
        "save_file = dataset_dir + \"/mnist.pkl\"\n",
        "\n",
        "train_num = 60000\n",
        "test_num = 10000\n",
        "img_dim = (1, 28, 28)\n",
        "img_size = 784\n",
        "\n",
        "\n",
        "def _download(file_name):\n",
        "    file_path = dataset_dir + \"/\" + file_name\n",
        "    \n",
        "    if os.path.exists(file_path):\n",
        "        return\n",
        "\n",
        "    print(\"Downloading \" + file_name + \" ... \")\n",
        "    urllib.request.urlretrieve(url_base + file_name, file_path)\n",
        "    print(\"Done\")\n",
        "    \n",
        "def download_mnist():\n",
        "    for v in key_file.values():\n",
        "       _download(v)\n",
        "        \n",
        "def _load_label(file_name):\n",
        "    file_path = dataset_dir + \"/\" + file_name\n",
        "    \n",
        "    print(\"Converting \" + file_name + \" to NumPy Array ...\")\n",
        "    with gzip.open(file_path, 'rb') as f:\n",
        "            labels = np.frombuffer(f.read(), np.uint8, offset=8)\n",
        "    print(\"Done\")\n",
        "    \n",
        "    return labels\n",
        "\n",
        "def _load_img(file_name):\n",
        "    file_path = dataset_dir + \"/\" + file_name\n",
        "    \n",
        "    print(\"Converting \" + file_name + \" to NumPy Array ...\")    \n",
        "    with gzip.open(file_path, 'rb') as f:\n",
        "            data = np.frombuffer(f.read(), np.uint8, offset=16)\n",
        "    data = data.reshape(-1, img_size)\n",
        "    print(\"Done\")\n",
        "    \n",
        "    return data\n",
        "    \n",
        "def _convert_numpy():\n",
        "    dataset = {}\n",
        "    dataset['train_img'] =  _load_img(key_file['train_img'])\n",
        "    dataset['train_label'] = _load_label(key_file['train_label'])    \n",
        "    dataset['test_img'] = _load_img(key_file['test_img'])\n",
        "    dataset['test_label'] = _load_label(key_file['test_label'])\n",
        "    \n",
        "    return dataset\n",
        "\n",
        "def init_mnist():\n",
        "    download_mnist()\n",
        "    dataset = _convert_numpy()\n",
        "    print(\"Creating pickle file ...\")\n",
        "    with open(save_file, 'wb') as f:\n",
        "        pickle.dump(dataset, f, -1)\n",
        "    print(\"Done!\")\n",
        "\n",
        "def _change_one_hot_label(X):\n",
        "    T = np.zeros((X.size, 10))\n",
        "    for idx, row in enumerate(T):\n",
        "        row[X[idx]] = 1\n",
        "        \n",
        "    return T\n",
        "    \n",
        "\n",
        "def load_mnist(normalize=True, flatten=True, one_hot_label=False):\n",
        "    \"\"\"读入MNIST数据集\n",
        "    \n",
        "    Parameters\n",
        "    ----------\n",
        "    normalize : 将图像的像素值正规化为0.0~1.0\n",
        "    one_hot_label : \n",
        "        one_hot_label为True的情况下，标签作为one-hot数组返回\n",
        "        one-hot数组是指[0,0,1,0,0,0,0,0,0,0]这样的数组\n",
        "    flatten : 是否将图像展开为一维数组\n",
        "    \n",
        "    Returns\n",
        "    -------\n",
        "    (训练图像, 训练标签), (测试图像, 测试标签)\n",
        "    \"\"\"\n",
        "    if not os.path.exists(save_file):\n",
        "        init_mnist()\n",
        "        \n",
        "    with open(save_file, 'rb') as f:\n",
        "        dataset = pickle.load(f)\n",
        "    \n",
        "    if normalize:\n",
        "        for key in ('train_img', 'test_img'):\n",
        "            dataset[key] = dataset[key].astype(np.float32)\n",
        "            dataset[key] /= 255.0\n",
        "            \n",
        "    if one_hot_label:\n",
        "        dataset['train_label'] = _change_one_hot_label(dataset['train_label'])\n",
        "        dataset['test_label'] = _change_one_hot_label(dataset['test_label'])\n",
        "    \n",
        "    if not flatten:\n",
        "         for key in ('train_img', 'test_img'):\n",
        "            dataset[key] = dataset[key].reshape(-1, 1, 28, 28)\n",
        "\n",
        "    return (dataset['train_img'], dataset['train_label']), (dataset['test_img'], dataset['test_label']) \n",
        "\n",
        "\n",
        "if __name__ == '__main__':\n",
        "    init_mnist()"
      ],
      "execution_count": null,
      "outputs": [
        {
          "output_type": "stream",
          "text": [
            "Downloading train-images-idx3-ubyte.gz ... \n",
            "Done\n",
            "Downloading train-labels-idx1-ubyte.gz ... \n",
            "Done\n",
            "Downloading t10k-images-idx3-ubyte.gz ... \n",
            "Done\n",
            "Downloading t10k-labels-idx1-ubyte.gz ... \n",
            "Done\n",
            "Converting train-images-idx3-ubyte.gz to NumPy Array ...\n",
            "Done\n",
            "Converting train-labels-idx1-ubyte.gz to NumPy Array ...\n",
            "Done\n",
            "Converting t10k-images-idx3-ubyte.gz to NumPy Array ...\n",
            "Done\n",
            "Converting t10k-labels-idx1-ubyte.gz to NumPy Array ...\n",
            "Done\n",
            "Creating pickle file ...\n",
            "Done!\n"
          ],
          "name": "stdout"
        }
      ]
    },
    {
      "cell_type": "code",
      "metadata": {
        "id": "QW1xnvWUKH4c",
        "colab": {
          "base_uri": "https://localhost:8080/",
          "height": 582
        },
        "outputId": "c9d7960e-384f-4d18-ad89-1efe43f5fdbc"
      },
      "source": [
        "import numpy as np\n",
        "import matplotlib.pyplot as plt\n",
        "\n",
        "# 读入数据\n",
        "(x_train, t_train), (x_test, t_test) = load_mnist(normalize=True, one_hot_label=True)\n",
        "\n",
        "network = TwoLayerNet(input_size=784, hidden_size=50, output_size=10)\n",
        "\n",
        "iters_num = 10000  # 适当设定循环的次数\n",
        "train_size = x_train.shape[0]\n",
        "batch_size = 100\n",
        "learning_rate = 0.1\n",
        "\n",
        "train_loss_list = []\n",
        "train_acc_list = []\n",
        "test_acc_list = []\n",
        "\n",
        "iter_per_epoch = max(train_size / batch_size, 1)\n",
        "\n",
        "for i in range(iters_num):\n",
        "    batch_mask = np.random.choice(train_size, batch_size)\n",
        "    x_batch = x_train[batch_mask]\n",
        "    t_batch = t_train[batch_mask]\n",
        "    \n",
        "    # 计算梯度\n",
        "    #grad = network.numerical_gradient(x_batch, t_batch)\n",
        "    grad = network.gradient(x_batch, t_batch)\n",
        "    \n",
        "    # 更新参数\n",
        "    for key in ('W1', 'b1', 'W2', 'b2'):\n",
        "        network.params[key] -= learning_rate * grad[key]\n",
        "    \n",
        "    loss = network.loss(x_batch, t_batch)\n",
        "    train_loss_list.append(loss)\n",
        "    \n",
        "    if i % iter_per_epoch == 0:\n",
        "        train_acc = network.accuracy(x_train, t_train)\n",
        "        test_acc = network.accuracy(x_test, t_test)\n",
        "        train_acc_list.append(train_acc)\n",
        "        test_acc_list.append(test_acc)\n",
        "        print(\"train acc, test acc | \" + str(train_acc) + \", \" + str(test_acc))\n",
        "\n",
        "# 绘制图形\n",
        "markers = {'train': 'o', 'test': 's'}\n",
        "x = np.arange(len(train_acc_list))\n",
        "plt.plot(x, train_acc_list, label='train acc')\n",
        "plt.plot(x, test_acc_list, label='test acc', linestyle='--')\n",
        "plt.xlabel(\"epochs\")\n",
        "plt.ylabel(\"accuracy\")\n",
        "plt.ylim(0, 1.0)\n",
        "plt.legend(loc='lower right')\n",
        "plt.show()"
      ],
      "execution_count": null,
      "outputs": [
        {
          "output_type": "stream",
          "text": [
            "train acc, test acc | 0.09863333333333334, 0.0958\n",
            "train acc, test acc | 0.7995166666666667, 0.8065\n",
            "train acc, test acc | 0.8767, 0.8792\n",
            "train acc, test acc | 0.898, 0.9016\n",
            "train acc, test acc | 0.9086333333333333, 0.9114\n",
            "train acc, test acc | 0.9147666666666666, 0.9157\n",
            "train acc, test acc | 0.91985, 0.9204\n",
            "train acc, test acc | 0.9245, 0.9257\n",
            "train acc, test acc | 0.9285666666666667, 0.93\n",
            "train acc, test acc | 0.9315, 0.9325\n",
            "train acc, test acc | 0.93455, 0.9357\n",
            "train acc, test acc | 0.9379166666666666, 0.9383\n",
            "train acc, test acc | 0.94035, 0.9403\n",
            "train acc, test acc | 0.9420166666666666, 0.9408\n",
            "train acc, test acc | 0.9448666666666666, 0.9442\n",
            "train acc, test acc | 0.9472833333333334, 0.9468\n",
            "train acc, test acc | 0.9488166666666666, 0.947\n"
          ],
          "name": "stdout"
        },
        {
          "output_type": "display_data",
          "data": {
            "image/png": "[encoded data removed]",
            "text/plain": [
              "<Figure size 432x288 with 1 Axes>"
            ]
          },
          "metadata": {
            "tags": [],
            "needs_background": "light"
          }
        }
      ]
    }
  ]
}