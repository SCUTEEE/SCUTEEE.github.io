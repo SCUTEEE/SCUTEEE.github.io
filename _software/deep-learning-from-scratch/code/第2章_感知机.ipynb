{
  "nbformat": 4,
  "nbformat_minor": 0,
  "metadata": {
    "colab": {
      "name": "第2章 感知机",
      "provenance": [],
      "collapsed_sections": []
    },
    "kernelspec": {
      "name": "python3",
      "display_name": "Python 3"
    }
  },
  "cells": [
    {
      "cell_type": "markdown",
      "metadata": {
        "id": "2rEbWY_H7pGD"
      },
      "source": [
        "# 感知机（perceptron）\n",
        "\n",
        "![](https://cdn-images-1.medium.com/max/1600/1*-JtN9TWuoZMz7z9QKbT85A.png)\n",
        "\n",
        "上图是一个感知机，由以下几部分组成：\n",
        "\n",
        "* $x_1,x_2,x_3$ 输入信号\n",
        "* $w_1,w_2,w_3$ 权重（weight）\n",
        "* $y$ 输出\n",
        "* $\\theta$ 阈值（图中未标出）\n",
        "\n",
        "感知机的输出与输入满足：\n",
        "\n",
        "$$\n",
        "y=\\begin{cases}\n",
        "0 & (w_1x_1+w_2x_2\\leq \\theta)\\\\\n",
        "1 & (w_1x_1+w_2+x_2>\\theta)\n",
        "\\end{cases}\n",
        "$$\n",
        "\n",
        "感知机可以用来实现一些简单的逻辑。比如下面代码实现的是与门。"
      ]
    },
    {
      "cell_type": "code",
      "metadata": {
        "id": "Gy97ViknAPgv",
        "colab": {
          "base_uri": "https://localhost:8080/",
          "height": 35
        },
        "outputId": "9bb95246-3a14-463c-8465-372297920b73"
      },
      "source": [
        "def AND(x1, x2):\n",
        "  w1, w2, theta = 0.5, 0.5, 0.7\n",
        "  tmp = x1*w1 + x2*w2\n",
        "  if tmp <= theta:\n",
        "    return 0\n",
        "  elif tmp > theta:\n",
        "    return 1\n",
        "\n",
        "print(\n",
        "    AND(0,0),\n",
        "    AND(0,1),\n",
        "    AND(1,0),\n",
        "    AND(1,1)\n",
        ")"
      ],
      "execution_count": null,
      "outputs": [
        {
          "output_type": "stream",
          "text": [
            "0 0 0 1\n"
          ],
          "name": "stdout"
        }
      ]
    },
    {
      "cell_type": "markdown",
      "metadata": {
        "id": "UZKSiinHAP3N"
      },
      "source": [
        "为了使感知机更具有普适性，我们将表达式修改为：\n",
        "\n",
        "$$\n",
        "y=\\begin{cases}\n",
        "0 & (b+w_1x_1+w_2x_2\\leq 0)\\\\\n",
        "1 & (b+w_1x_1+w_2+x_2>0)\n",
        "\\end{cases}\n",
        "$$\n",
        "\n",
        "通过增加一个 **$b$ 偏置**（bias），就可以统一用 0 作为阈值。\n",
        "\n",
        "![](https://www.cs.utexas.edu/~teammco/misc/perceptron/perceptron.png)\n",
        "\n",
        "利用修改后的表达式，我们可以利用 numpy 写出与门、或门、与非门。\n"
      ]
    },
    {
      "cell_type": "code",
      "metadata": {
        "id": "bMXO4z0UAQID"
      },
      "source": [
        "import numpy as np\n",
        "\n",
        "def NAND(x1, x2):\n",
        "    x = np.array([x1, x2])\n",
        "    w = np.array([-0.5, -0.5])\n",
        "    b = 0.7\n",
        "    tmp = np.sum(w*x) + b\n",
        "    if tmp <= 0:\n",
        "        return 0\n",
        "    else:\n",
        "        return 1\n",
        "\n",
        "def OR(x1, x2):\n",
        "    x = np.array([x1, x2])\n",
        "    w = np.array([0.5, 0.5])\n",
        "    b = -0.2\n",
        "    tmp = np.sum(w*x) + b\n",
        "    if tmp <= 0:\n",
        "        return 0\n",
        "    else:\n",
        "        return 1\n",
        "\n",
        "def AND(x1, x2):\n",
        "    x = np.array([x1, x2])\n",
        "    w = np.array([0.5, 0.5])\n",
        "    b = -0.7\n",
        "    tmp = np.sum(w*x) + b\n",
        "    if tmp <= 0:\n",
        "        return 0\n",
        "    else:\n",
        "        return 1"
      ],
      "execution_count": null,
      "outputs": []
    },
    {
      "cell_type": "markdown",
      "metadata": {
        "id": "8TJ5KY2-AQYk"
      },
      "source": [
        "单个感知机无法实现异或门。这是因为感知机本质上是利用一条直线将 $x_1-x_2$ 组成的平面划分成两部分。而要实现异或门，则需要多条直线来划分。 \n",
        "\n",
        "![](https://cdn-images-1.medium.com/max/1600/1*Tc8UgR_fjI_h0p3y4H9MwA.png)\n",
        "\n",
        "![](http://i.stack.imgur.com/zpj9Y.png)\n"
      ]
    },
    {
      "cell_type": "code",
      "metadata": {
        "id": "b71kENNM-JCt",
        "colab": {
          "base_uri": "https://localhost:8080/",
          "height": 35
        },
        "outputId": "06624093-4504-4bfd-8465-58c8e6d2e1fc"
      },
      "source": [
        "def XOR(x1, x2):\n",
        "    s1 = NAND(x1, x2)\n",
        "    s2 = OR(x1, x2)\n",
        "    y = AND(s1, s2)\n",
        "    return y\n",
        "\n",
        "print(\n",
        "    XOR(0,0),\n",
        "    XOR(0,1),\n",
        "    XOR(1,0),\n",
        "    XOR(1,1)\n",
        ")"
      ],
      "execution_count": null,
      "outputs": [
        {
          "output_type": "stream",
          "text": [
            "0 1 1 0\n"
          ],
          "name": "stdout"
        }
      ]
    },
    {
      "cell_type": "markdown",
      "metadata": {
        "id": "6O73YQoXLefI"
      },
      "source": [
        "于是，通过多重感知机，我们可以实现所有的逻辑功能，从而可以实现计算机。因此感知机是深度学习里最基础的组成部分。"
      ]
    }
  ]
}