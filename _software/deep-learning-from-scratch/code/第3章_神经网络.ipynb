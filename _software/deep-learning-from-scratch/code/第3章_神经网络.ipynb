{
  "nbformat": 4,
  "nbformat_minor": 0,
  "metadata": {
    "colab": {
      "name": "第3章 神经网络.ipynb",
      "provenance": [],
      "collapsed_sections": []
    },
    "kernelspec": {
      "name": "python3",
      "display_name": "Python 3"
    }
  },
  "cells": [
    {
      "cell_type": "markdown",
      "metadata": {
        "id": "8p5AY_zKL7L-"
      },
      "source": [
        "# 神经网络\n",
        "\n",
        "## 从感知机到神经网络\n",
        "\n",
        "![](https://i.stack.imgur.com/gIHAN.jpg)\n",
        "\n",
        "神经网络可以划分为三层：\n",
        "\n",
        "* 输入层\n",
        "* 中间层（隐藏层）\n",
        "* 输出层\n",
        "\n",
        "一般输入层仅仅是输入数据，并没有对数据进行处理，所以编号为 第0层。总的层数为 3 层，但我们为了于编号一致，将上图中的网络称为 2层网络。\n",
        "\n",
        "每一层网络由若干个 **节点**（也叫 **神经元**）构成，每个节点内部都有相应的处理方法。比如，前面已经学过了感知机的表达式。这里我们对表达式进行拆分：\n",
        "\n",
        "$$\n",
        "y=h(a)\\\\\n",
        "a=b+w_1x_1+w_2x_2\\\\\n",
        "h(x)=\\begin{cases}\n",
        "0 & x\\leq 0\\\\\n",
        "1 & x > 0\n",
        "\\end{cases}\n",
        "$$\n",
        "\n",
        "我们将 $h(x)$ 称为 **激活函数**（action function），意思是当输入超出阈值时，就会切换输出值。在感知机中，激活函数是一个阶跃函数。故感知机的节点内部如下图：\n",
        "\n",
        "![](https://i1.wp.com/www.jessicayung.com/wp-content/uploads/2016/12/perceptron.png?fit=397%2C262&ssl=1)\n",
        "\n",
        "## 常见的激活函数\n",
        "\n",
        "### 阶跃函数\n",
        "\n",
        "$$\n",
        "h(x)=\\begin{cases}\n",
        "0 & x\\leq 0\\\\\n",
        "1 & x > 0\n",
        "\\end{cases}\n",
        "$$"
      ]
    },
    {
      "cell_type": "code",
      "metadata": {
        "id": "4tnv7zLCNDNM",
        "colab": {
          "base_uri": "https://localhost:8080/",
          "height": 265
        },
        "outputId": "8a0b3280-b5af-4188-b931-0354b4f85665"
      },
      "source": [
        "import numpy as np\n",
        "import matplotlib.pylab as plt\n",
        "\n",
        "\n",
        "def step_function(x):\n",
        "    return np.array(x > 0, dtype=np.int)\n",
        "\n",
        "X = np.arange(-5.0, 5.0, 0.1)\n",
        "Y = step_function(X)\n",
        "plt.plot(X, Y)\n",
        "plt.ylim(-0.1, 1.1)  # 指定图中绘制的y轴的范围\n",
        "plt.show()"
      ],
      "execution_count": null,
      "outputs": [
        {
          "output_type": "display_data",
          "data": {
            "image/png": "[encoded data removed]",
            "text/plain": [
              "<Figure size 432x288 with 1 Axes>"
            ]
          },
          "metadata": {
            "tags": [],
            "needs_background": "light"
          }
        }
      ]
    },
    {
      "cell_type": "markdown",
      "metadata": {
        "id": "dPwkw3w3P46m"
      },
      "source": [
        "sigmoid 函数\n",
        "\n",
        "$$\n",
        "h(x)=\\frac{1}{1+\\exp(-x)}\n",
        "$$"
      ]
    },
    {
      "cell_type": "code",
      "metadata": {
        "id": "ZlCy6Q59QHpQ",
        "colab": {
          "base_uri": "https://localhost:8080/",
          "height": 265
        },
        "outputId": "3d09da2b-6d84-4c55-91aa-54f62ce477b2"
      },
      "source": [
        "import numpy as np\n",
        "import matplotlib.pylab as plt\n",
        "\n",
        "\n",
        "def sigmoid(x):\n",
        "    return 1 / (1 + np.exp(-x))    \n",
        "\n",
        "X = np.arange(-5.0, 5.0, 0.1)\n",
        "Y = sigmoid(X)\n",
        "plt.plot(X, Y)\n",
        "plt.ylim(-0.1, 1.1)\n",
        "plt.show()"
      ],
      "execution_count": null,
      "outputs": [
        {
          "output_type": "display_data",
          "data": {
            "image/png": "[encoded data removed]",
            "text/plain": [
              "<Figure size 432x288 with 1 Axes>"
            ]
          },
          "metadata": {
            "tags": [],
            "needs_background": "light"
          }
        }
      ]
    },
    {
      "cell_type": "markdown",
      "metadata": {
        "id": "y2LT7NZwQOYh"
      },
      "source": [
        "ReLU函数（Rectified Linear Unit）\n",
        "\n",
        "$$\n",
        "h(x)=\\begin{cases}\n",
        "0 & x\\leq 0\\\\\n",
        "x & x > 0\n",
        "\\end{cases}\n",
        "$$\n",
        "\n"
      ]
    },
    {
      "cell_type": "code",
      "metadata": {
        "id": "NfOJvGVbQljm",
        "colab": {
          "base_uri": "https://localhost:8080/",
          "height": 265
        },
        "outputId": "f568367e-b7f1-4099-eab3-671d79084567"
      },
      "source": [
        "import numpy as np\n",
        "import matplotlib.pylab as plt\n",
        "\n",
        "\n",
        "def relu(x):\n",
        "    return np.maximum(0, x)\n",
        "\n",
        "x = np.arange(-5.0, 5.0, 0.1)\n",
        "y = relu(x)\n",
        "plt.plot(x, y)\n",
        "plt.ylim(-1.0, 5.5)\n",
        "plt.show()"
      ],
      "execution_count": null,
      "outputs": [
        {
          "output_type": "display_data",
          "data": {
            "image/png": "[encoded data removed]",
            "text/plain": [
              "<Figure size 432x288 with 1 Axes>"
            ]
          },
          "metadata": {
            "tags": [],
            "needs_background": "light"
          }
        }
      ]
    },
    {
      "cell_type": "markdown",
      "metadata": {
        "id": "TQFv1QJOQoQ9"
      },
      "source": [
        "我们可以注意到，上面三个都是非线性函数。于是我们就产生了一个问题：能不能用 $y=cx$ 这样的线性函数？显然不能。因为线性函数的叠加依然是线性函数，比如叠加三次 $y=c\\times c\\times c x=ax$$\\;(a=c^3)$，那么我们中间层就完全可以用一层来代替，那么就无法发挥多层网络的优势。"
      ]
    },
    {
      "cell_type": "markdown",
      "metadata": {
        "id": "dfUDzpDDRklc"
      },
      "source": [
        "## 利用矩阵乘法实现神经网络\n",
        "\n",
        "假如有 2 个输入 $x_1,x_2$ ，3个输出 $y_1,y_2,y_3$，如果要实现：\n",
        "\n",
        "$$\n",
        "y_1=1x_1+2x_2\\\\\n",
        "y_2=3x_1+4x_2\\\\\n",
        "y_3=5x_1+6x_3\\\\\n",
        "$$\n",
        "\n",
        "那么可以写成矩阵相乘：\n",
        "\n",
        "$$\n",
        "\\begin{align}\n",
        "Y&=X \\cdot\\; W\\\\\n",
        "\\begin{bmatrix}\n",
        "y_1 & y_2 & y_3\n",
        "\\end{bmatrix}&=\n",
        "\\begin{bmatrix}\n",
        "x_1 & x_2\n",
        "\\end{bmatrix}\\cdot\n",
        "\\begin{bmatrix}\n",
        "1 & 3 & 5\\\\\n",
        "2 & 4 & 6\n",
        "\\end{bmatrix}\\\\\n",
        "3&=2 \\cdot\\; 2\\times 3\n",
        "\\end{align}\n",
        "$$\n",
        "\n",
        "注意到权重矩阵 $W$ 的行数等于 $X$ 的列数，$W$ 的列数等于 $Y$ 的列数。也就是 $W$ 的形状为 $X_列 \\times Y_列$\n",
        "\n",
        "为了区分不同层，我们在符号的右上角添加数字来表示：$w^{(1)}_{2,3}$ 表示这个权重属于第 1 层，第 2 个神经元，接受的是上一层第 3 个神经元的输入。类似的，$x^{(1)}_1$ 和 $y^{(1)}_1$ 表示第 1 层第 1 个输入或输出。\n",
        "\n",
        "上面我们忽略了激活函数和偏置，加上激活函数和偏置的表达式应该为：\n",
        "\n",
        "$$\n",
        "Y=h(A)=h(XW+B)\n",
        "$$\n",
        "\n",
        "比如一个三层的神经网络可以写成：\n",
        "\n",
        "```python\n",
        "a1 = np.dot(x, W1) + b1\n",
        "z1 = sigmoid(a1)\n",
        "\n",
        "a2 = np.dot(z1, W2) + b2\n",
        "z2 = sigmoid(a2)\n",
        "\n",
        "a3 = np.dot(z2, W3) + b3\n",
        "y = softmax(a3)\n",
        "```"
      ]
    },
    {
      "cell_type": "markdown",
      "metadata": {
        "id": "BkOtroMlYd49"
      },
      "source": [
        "## 输出层\n",
        "\n",
        "如果是需要具体数字，比如回归预测问题，则激活函数只需要用 **恒定函数** 即可。\n",
        "\n",
        "如果是需要概率，比如分类问题，则需要使用 softmax 函数：\n",
        "\n",
        "$$\n",
        "y_k = \\frac{\\exp(a_k)}{\\sum_{i=1}^n \\exp(a_i)}\n",
        "$$\n",
        "\n",
        "（使用指数函数是为了使负数 $a_i$ 也可以用于计算概率）\n",
        "\n",
        "为了避免指数爆炸，一般会减去一个很大的数（结果依然不变）：\n",
        "\n",
        "$$\n",
        "y_k = \\frac{\\exp(a_k-C)}{\\sum_{i=1}^n \\exp(a_i-C)}\n",
        "$$"
      ]
    },
    {
      "cell_type": "code",
      "metadata": {
        "id": "nTMETUaLaiFn",
        "colab": {
          "base_uri": "https://localhost:8080/",
          "height": 127
        },
        "outputId": "f8af1b87-03b1-49fe-b555-71a677726114"
      },
      "source": [
        "import numpy as np\n",
        "\n",
        "\n",
        "a=np.array([1010,1000,990])\n",
        "np.exp(a)/np.sum(np.exp(a)) #出现了指数爆炸"
      ],
      "execution_count": null,
      "outputs": [
        {
          "output_type": "stream",
          "text": [
            "/usr/local/lib/python3.6/dist-packages/ipykernel_launcher.py:5: RuntimeWarning: overflow encountered in exp\n",
            "  \"\"\"\n",
            "/usr/local/lib/python3.6/dist-packages/ipykernel_launcher.py:5: RuntimeWarning: invalid value encountered in true_divide\n",
            "  \"\"\"\n"
          ],
          "name": "stderr"
        },
        {
          "output_type": "execute_result",
          "data": {
            "text/plain": [
              "array([nan, nan, nan])"
            ]
          },
          "metadata": {
            "tags": []
          },
          "execution_count": 13
        }
      ]
    },
    {
      "cell_type": "code",
      "metadata": {
        "id": "ARnusRi3bATF",
        "colab": {
          "base_uri": "https://localhost:8080/",
          "height": 35
        },
        "outputId": "c2d179cd-2dc7-4e41-b1ec-00e764bd42ab"
      },
      "source": [
        "c=np.max(a)\n",
        "np.exp(a-c)/np.sum(np.exp(a-c))"
      ],
      "execution_count": null,
      "outputs": [
        {
          "output_type": "execute_result",
          "data": {
            "text/plain": [
              "array([9.99954600e-01, 4.53978686e-05, 2.06106005e-09])"
            ]
          },
          "metadata": {
            "tags": []
          },
          "execution_count": 5
        }
      ]
    },
    {
      "cell_type": "code",
      "metadata": {
        "id": "8lYrtAZy_OkQ"
      },
      "source": [
        "def softmax(x):\n",
        "    if x.ndim == 2:\n",
        "        x = x.T\n",
        "        x = x - np.max(x, axis=0)\n",
        "        y = np.exp(x) / np.sum(np.exp(x), axis=0)\n",
        "        return y.T \n",
        "\n",
        "    x = x - np.max(x) # 溢出对策\n",
        "    return np.exp(x) / np.sum(np.exp(x))"
      ],
      "execution_count": null,
      "outputs": []
    },
    {
      "cell_type": "markdown",
      "metadata": {
        "id": "ACOPTlOpbRpF"
      },
      "source": [
        "# 开始搭建神经网络\n",
        "\n",
        "## 手写数字识别\n",
        "\n",
        "MNIST 手写数字图像集是机器学习最常用的数据集之一。有句话说，如果你的网络在 MNIST 上跑不过，那就别指望它能用。\n",
        "\n",
        "下面是《深度学习入门》中用于下载和读取 MNIST 的程序。\n"
      ]
    },
    {
      "cell_type": "code",
      "metadata": {
        "id": "Zeun8mFTk7HB",
        "colab": {
          "base_uri": "https://localhost:8080/",
          "height": 341
        },
        "outputId": "87192428-f98e-42ce-8518-addeb9bb41e3"
      },
      "source": [
        "try:\n",
        "    import urllib.request\n",
        "except ImportError:\n",
        "    raise ImportError('You should use Python 3.x')\n",
        "import os.path\n",
        "from IPython.terminal.embed import InteractiveShellEmbed\n",
        "import gzip\n",
        "import pickle\n",
        "import os\n",
        "import numpy as np\n",
        "\n",
        "\n",
        "url_base = 'http://yann.lecun.com/exdb/mnist/'\n",
        "key_file = {\n",
        "    'train_img':'train-images-idx3-ubyte.gz',\n",
        "    'train_label':'train-labels-idx1-ubyte.gz',\n",
        "    'test_img':'t10k-images-idx3-ubyte.gz',\n",
        "    'test_label':'t10k-labels-idx1-ubyte.gz'\n",
        "}\n",
        "\n",
        "## if you run in terminal, run this\n",
        "# dataset_dir = os.path.dirname(os.path.abspath(__file__))\n",
        "## if you run in IPython, run this\n",
        "ip_shell = InteractiveShellEmbed()\n",
        "dataset_dir = ip_shell.magic(\"%pwd\")\n",
        "\n",
        "save_file = dataset_dir + \"/mnist.pkl\"\n",
        "\n",
        "train_num = 60000\n",
        "test_num = 10000\n",
        "img_dim = (1, 28, 28)\n",
        "img_size = 784\n",
        "\n",
        "\n",
        "def _download(file_name):\n",
        "    file_path = dataset_dir + \"/\" + file_name\n",
        "    \n",
        "    if os.path.exists(file_path):\n",
        "        return\n",
        "\n",
        "    print(\"Downloading \" + file_name + \" ... \")\n",
        "    urllib.request.urlretrieve(url_base + file_name, file_path)\n",
        "    print(\"Done\")\n",
        "    \n",
        "def download_mnist():\n",
        "    for v in key_file.values():\n",
        "       _download(v)\n",
        "        \n",
        "def _load_label(file_name):\n",
        "    file_path = dataset_dir + \"/\" + file_name\n",
        "    \n",
        "    print(\"Converting \" + file_name + \" to NumPy Array ...\")\n",
        "    with gzip.open(file_path, 'rb') as f:\n",
        "            labels = np.frombuffer(f.read(), np.uint8, offset=8)\n",
        "    print(\"Done\")\n",
        "    \n",
        "    return labels\n",
        "\n",
        "def _load_img(file_name):\n",
        "    file_path = dataset_dir + \"/\" + file_name\n",
        "    \n",
        "    print(\"Converting \" + file_name + \" to NumPy Array ...\")    \n",
        "    with gzip.open(file_path, 'rb') as f:\n",
        "            data = np.frombuffer(f.read(), np.uint8, offset=16)\n",
        "    data = data.reshape(-1, img_size)\n",
        "    print(\"Done\")\n",
        "    \n",
        "    return data\n",
        "    \n",
        "def _convert_numpy():\n",
        "    dataset = {}\n",
        "    dataset['train_img'] =  _load_img(key_file['train_img'])\n",
        "    dataset['train_label'] = _load_label(key_file['train_label'])    \n",
        "    dataset['test_img'] = _load_img(key_file['test_img'])\n",
        "    dataset['test_label'] = _load_label(key_file['test_label'])\n",
        "    \n",
        "    return dataset\n",
        "\n",
        "def init_mnist():\n",
        "    download_mnist()\n",
        "    dataset = _convert_numpy()\n",
        "    print(\"Creating pickle file ...\")\n",
        "    with open(save_file, 'wb') as f:\n",
        "        pickle.dump(dataset, f, -1)\n",
        "    print(\"Done!\")\n",
        "\n",
        "def _change_one_hot_label(X):\n",
        "    T = np.zeros((X.size, 10))\n",
        "    for idx, row in enumerate(T):\n",
        "        row[X[idx]] = 1\n",
        "        \n",
        "    return T\n",
        "    \n",
        "\n",
        "def load_mnist(normalize=True, flatten=True, one_hot_label=False):\n",
        "    \"\"\"读入MNIST数据集\n",
        "    \n",
        "    Parameters\n",
        "    ----------\n",
        "    normalize : 将图像的像素值正规化为0.0~1.0\n",
        "    one_hot_label : \n",
        "        one_hot_label为True的情况下，标签作为one-hot数组返回\n",
        "        one-hot数组是指[0,0,1,0,0,0,0,0,0,0]这样的数组\n",
        "    flatten : 是否将图像展开为一维数组\n",
        "    \n",
        "    Returns\n",
        "    -------\n",
        "    (训练图像, 训练标签), (测试图像, 测试标签)\n",
        "    \"\"\"\n",
        "    if not os.path.exists(save_file):\n",
        "        init_mnist()\n",
        "        \n",
        "    with open(save_file, 'rb') as f:\n",
        "        dataset = pickle.load(f)\n",
        "    \n",
        "    if normalize:\n",
        "        for key in ('train_img', 'test_img'):\n",
        "            dataset[key] = dataset[key].astype(np.float32)\n",
        "            dataset[key] /= 255.0\n",
        "            \n",
        "    if one_hot_label:\n",
        "        dataset['train_label'] = _change_one_hot_label(dataset['train_label'])\n",
        "        dataset['test_label'] = _change_one_hot_label(dataset['test_label'])\n",
        "    \n",
        "    if not flatten:\n",
        "         for key in ('train_img', 'test_img'):\n",
        "            dataset[key] = dataset[key].reshape(-1, 1, 28, 28)\n",
        "\n",
        "    return (dataset['train_img'], dataset['train_label']), (dataset['test_img'], dataset['test_label']) \n",
        "\n",
        "\n",
        "if __name__ == '__main__':\n",
        "    init_mnist()"
      ],
      "execution_count": null,
      "outputs": [
        {
          "output_type": "stream",
          "text": [
            "Downloading train-images-idx3-ubyte.gz ... \n",
            "Done\n",
            "Downloading train-labels-idx1-ubyte.gz ... \n",
            "Done\n",
            "Downloading t10k-images-idx3-ubyte.gz ... \n",
            "Done\n",
            "Downloading t10k-labels-idx1-ubyte.gz ... \n",
            "Done\n",
            "Converting train-images-idx3-ubyte.gz to NumPy Array ...\n",
            "Done\n",
            "Converting train-labels-idx1-ubyte.gz to NumPy Array ...\n",
            "Done\n",
            "Converting t10k-images-idx3-ubyte.gz to NumPy Array ...\n",
            "Done\n",
            "Converting t10k-labels-idx1-ubyte.gz to NumPy Array ...\n",
            "Done\n",
            "Creating pickle file ...\n",
            "Done!\n"
          ],
          "name": "stdout"
        }
      ]
    },
    {
      "cell_type": "markdown",
      "metadata": {
        "id": "vtk4HDiYcC88"
      },
      "source": [
        "但最好的方式还是通过 `tf.keras.datasets.mnist` 来使用，这个会自动下载 mnist。\n",
        "\n",
        "上面的程序中中有用于读取数据的 `load_minst()` 函数。运行后，它会以“（训练图像，训练标签），（测试图像，测试标签）” 的形式读入。此外，它有三个参数：\n",
        "\n",
        "* `normalize=True` 正规化，即单个像素是 0\\~255（False） 还是 0\\~1（True）\n",
        "* `flatten=True` 一维化，即是一张 28x28 的图片，还是一张 1x784 的长线 \n",
        "* `one_hot_label=False` one-hot标签，即标签是 0~9，还是 `[0,0,1,0,0,0,0,0,0,0]`\n",
        "\n",
        "`tf.keras.datasets.mnist` 也有 `load_minst()` 函数，但它不会对数据做任何处理。\n",
        "\n",
        "下面来读入看一下：\n"
      ]
    },
    {
      "cell_type": "code",
      "metadata": {
        "id": "iVrOEKgxfLJR",
        "colab": {
          "base_uri": "https://localhost:8080/",
          "height": 315
        },
        "outputId": "e23b483b-a923-4850-d40a-b0aa8d7db24c"
      },
      "source": [
        "import os\n",
        "# import tensorflow as tf\n",
        "import matplotlib.pyplot as plt\n",
        " \n",
        "# os.environ['TF_CPP_MIN_LOG_LEVEL'] = '2'\n",
        "# tf.compat.v1.enable_eager_execution()\n",
        " \n",
        "# print(\"TensorFlow Version:\\t\", tf.__version__)\n",
        "\n",
        "## 加载 MNIST\n",
        "# mnist = tf.keras.datasets.mnist\n",
        "\n",
        "## 读入数据\n",
        "(x_train, y_train), (x_test, y_test) = load_mnist(flatten=False, normalize=True)\n",
        "\n",
        "print(x_train.shape, \n",
        "      y_train.shape,\n",
        "      x_test.shape,\n",
        "      y_test.shape\n",
        ") # (60000, 1, 28, 28) (60000,) (10000, 1, 28, 28) (10000,)\n",
        "\n",
        "fig, ax = plt.subplots(nrows=5, ncols=5, sharex='all', sharey='all')\n",
        "ax = ax.flatten()\n",
        "## 读取前 25 张图\n",
        "for i in range(25):\n",
        "    img = x_train[i].reshape(28, 28)\n",
        "    ax[i].set_title(y_train[i])\n",
        "    ax[i].imshow(img, cmap='Greys', interpolation='nearest')\n",
        "ax[0].set_xticks([])\n",
        "ax[0].set_yticks([])\n",
        "plt.tight_layout()\n",
        "plt.show()"
      ],
      "execution_count": null,
      "outputs": [
        {
          "output_type": "stream",
          "text": [
            "(60000, 1, 28, 28) (60000,) (10000, 1, 28, 28) (10000,)\n"
          ],
          "name": "stdout"
        },
        {
          "output_type": "display_data",
          "data": {
            "image/png": "[encoded data removed]",
            "text/plain": [
              "<Figure size 432x288 with 25 Axes>"
            ]
          },
          "metadata": {
            "tags": []
          }
        }
      ]
    },
    {
      "cell_type": "markdown",
      "metadata": {
        "id": "hVqJaT-6irRb"
      },
      "source": [
        "根据数据集，我们可以设计一个含 2 个隐藏层的网络：\n",
        "\n",
        "* 输入 784\n",
        "* 隐藏层1 50个神经元 784x50\n",
        "* 隐藏层2 100个神经元 50x100\n",
        "* 输出 100x10"
      ]
    },
    {
      "cell_type": "code",
      "metadata": {
        "id": "1gFadjF4jJPl"
      },
      "source": [
        "def predict(network, x):\n",
        "    W1, W2, W3 = network['W1'], network['W2'], network['W3']\n",
        "    b1, b2, b3 = network['b1'], network['b2'], network['b3']\n",
        "\n",
        "    a1 = np.dot(x, W1) + b1\n",
        "    z1 = sigmoid(a1)\n",
        "    a2 = np.dot(z1, W2) + b2\n",
        "    z2 = sigmoid(a2)\n",
        "    a3 = np.dot(z2, W3) + b3\n",
        "    y = softmax(a3)\n",
        "\n",
        "    return y"
      ],
      "execution_count": null,
      "outputs": []
    },
    {
      "cell_type": "markdown",
      "metadata": {
        "id": "qseqSueFkG-8"
      },
      "source": [
        "由于还没有参数，所以上面的神经网络并不能运行。为了好玩，我们可以选择随机生成参数，比如"
      ]
    },
    {
      "cell_type": "code",
      "metadata": {
        "id": "Nls7k4DRkcMI",
        "colab": {
          "base_uri": "https://localhost:8080/",
          "height": 35
        },
        "outputId": "0e65ab31-a789-424b-953a-c1a29081ec9b"
      },
      "source": [
        "(x_train, y_train), (x_test, y_test) = load_mnist(flatten=True, normalize=True, one_hot_label=False)\n",
        "\n",
        "network={}\n",
        "network['W1']=np.random.rand(784, 50)\n",
        "network['W2']=np.random.rand(50, 100)\n",
        "network['W3']=np.random.rand(100, 10)\n",
        "network['b1']=np.random.rand(50)\n",
        "network['b2']=np.random.rand(100)\n",
        "network['b3']=np.random.rand(10)\n",
        "\n",
        "\n",
        "accuracy_cnt = 0\n",
        "for i in range(len(x_test)):\n",
        "    y = predict(network, x_test[i])\n",
        "    p= np.argmax(y) # 获取概率最高的元素的索引\n",
        "    if p == y_test[i]:\n",
        "        accuracy_cnt += 1\n",
        "\n",
        "print(\"Accuracy:\" + str(float(accuracy_cnt) / len(x_test)))\n"
      ],
      "execution_count": null,
      "outputs": [
        {
          "output_type": "stream",
          "text": [
            "Accuracy:0.0958\n"
          ],
          "name": "stdout"
        }
      ]
    },
    {
      "cell_type": "markdown",
      "metadata": {
        "id": "Rf7auex7BVqm"
      },
      "source": [
        "准确率低得可怜……"
      ]
    },
    {
      "cell_type": "markdown",
      "metadata": {
        "id": "vCLGwAx7Bgha"
      },
      "source": [
        "上面仅仅是对一个训练样本进行处理。一般训练时，输入时是成“**批 patch**”输入的，像下面这样："
      ]
    },
    {
      "cell_type": "code",
      "metadata": {
        "id": "0-kDZ8QXC26J",
        "colab": {
          "base_uri": "https://localhost:8080/",
          "height": 35
        },
        "outputId": "2c8fb40c-6c0a-4b9b-a7de-08411a37a769"
      },
      "source": [
        "batch_size = 100 # 批数量\n",
        "accuracy_cnt = 0\n",
        "\n",
        "\n",
        "for i in range(0, len(x_test), batch_size):\n",
        "    x_batch = x_test[i:i+batch_size]\n",
        "    y_batch = predict(network, x_batch)\n",
        "    p = np.argmax(y_batch, axis=1)\n",
        "    accuracy_cnt += np.sum(p == y_test[i:i+batch_size])\n",
        "\n",
        "print(\"Accuracy:\" + str(float(accuracy_cnt) / len(x_test)))"
      ],
      "execution_count": null,
      "outputs": [
        {
          "output_type": "stream",
          "text": [
            "Accuracy:0.0958\n"
          ],
          "name": "stdout"
        }
      ]
    }
  ]
}